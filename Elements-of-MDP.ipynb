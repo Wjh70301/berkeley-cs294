{
 "cells": [
  {
   "cell_type": "markdown",
   "metadata": {},
   "source": [
    "# Elements of RL\n",
    "\n",
    "ref: http://www.incompleteideas.net/book/bookdraft2017nov5.pdf, Chapter 1.3\n",
    "\n",
    "1. a policy\n",
    "1. a reward signal\n",
    "1. a value function\n",
    "1. a model of environment (optional)"
   ]
  },
  {
   "cell_type": "markdown",
   "metadata": {},
   "source": [
    "* Model-based methods: solve RL problems that use model and **planning**. Planning is possible because of a model of environment.\n",
    "* Model-free methods: no model for environment, no planning, explicitly trial and error, almost the opposite of **planning**."
   ]
  },
  {
   "cell_type": "markdown",
   "metadata": {},
   "source": [
    "# Elements of a MDP\n",
    "\n",
    "ref: http://proceedings.mlr.press/v32/silver14.pdf"
   ]
  },
  {
   "cell_type": "markdown",
   "metadata": {},
   "source": [
    "\n",
    "1. $\\mathcal{S}$, state space\n",
    "1. $\\mathcal{A}$, action space\n",
    "1. $\\pi_{\\theta}$: $S \\rightarrow \\mathcal{P}(\\mathcal{A})$, policy, used to select actions in the MDP, $\\theta$ is the parameters characterizing the policy, e.g. policy is modeled by a neural network\n",
    "1. $p(s_{t+1}|s_t, a_t)$, stationary transition dynamics distribution, satisfying the Markov property: $p(s_{t+1}|(s_1, a_1), \\cdots, (s_t, a_t)) = p(s_{t+1}|(s_t, a_t))$\n",
    "1. $r$: $\\mathcal{S} \\times \\mathcal{A} \\rightarrow \\mathbb{R}$, reward function \n",
    "1. $p_1(s_1)$, intial state distribution"
   ]
  },
  {
   "cell_type": "markdown",
   "metadata": {},
   "source": [
    "More concepts:\n",
    "\n",
    "1. $h_{1:T} = (s_1, a_1, r_1), \\cdots, (s_T, a_T, r_T)$, trajectory \n",
    "1. $\\gamma^{t-1} r(s_t, a_t)$, discounted reward at time step $t$\n",
    "1. $r_t^{\\gamma} = \\sum_{k=t}^{\\infty} \\gamma^{k - t} r(s_k, a_k)$, total discounted reward from time-step $t$ onwards. Note $r$ is a function, but $r_t^{\\gamma}$ is NOT. Discount factor $\\gamma \\in [0, 1)$\n",
    "1. $V^{\\pi}(s) = \\mathbb{E}[r_1^{\\gamma}|S_1=s; \\pi]$, state value function under policy $\\pi$\n",
    "1. $Q^{\\pi}(s, a) = \\mathbb{E}[r_1^{\\gamma}|S_1=s, A_1=a; \\pi]$, state-action value function under policy $\\pi$\n",
    "1. $J(\\pi) = \\mathbb{E}[r_1^{\\gamma}|\\pi]$, the goal of RL, to maximize total discounted reward from the start state "
   ]
  },
  {
   "cell_type": "markdown",
   "metadata": {},
   "source": [
    "Another fomulation (slightly different naming conventions) from \n",
    "\n",
    "https://arxiv.org/pdf/1706.05374.pdf\n",
    "\n",
    "MDP is characterized by $(S, A, R, p, p_0, γ)$"
   ]
  },
  {
   "cell_type": "markdown",
   "metadata": {
    "collapsed": true
   },
   "source": [
    "# Concepts"
   ]
  },
  {
   "cell_type": "markdown",
   "metadata": {},
   "source": [
    "1. Episode\n",
    "1. Terminal state\n",
    "1. Episodic task\n",
    "1. Continuing task\n",
    "1. Discounting\n",
    "1. Absorbing state\n",
    "1. State-value function for policy $\\pi$: $v_{\\pi}$\n",
    "1. Action-value function for policy $\\pi$: $q_{\\pi}$"
   ]
  },
  {
   "cell_type": "code",
   "execution_count": null,
   "metadata": {
    "collapsed": true
   },
   "outputs": [],
   "source": []
  }
 ],
 "metadata": {
  "anaconda-cloud": {},
  "kernelspec": {
   "display_name": "Python [default]",
   "language": "python",
   "name": "python3"
  },
  "language_info": {
   "codemirror_mode": {
    "name": "ipython",
    "version": 3
   },
   "file_extension": ".py",
   "mimetype": "text/x-python",
   "name": "python",
   "nbconvert_exporter": "python",
   "pygments_lexer": "ipython3",
   "version": "3.5.3"
  }
 },
 "nbformat": 4,
 "nbformat_minor": 2
}
